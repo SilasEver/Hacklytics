{
 "cells": [
  {
   "cell_type": "code",
   "execution_count": 2,
   "metadata": {},
   "outputs": [],
   "source": [
    "import pandas as pd\n",
    "import numpy as np\n",
    "import matplotlib.pyplot as plt\n",
    "from sklearn.model_selection import train_test_split\n",
    "from sklearn.tree import DecisionTreeClassifier\n",
    "from sklearn.ensemble import RandomForestClassifier\n",
    "from sklearn.metrics import accuracy_score\n",
    "from sklearn.model_selection import GridSearchCV"
   ]
  },
  {
   "cell_type": "code",
   "execution_count": 3,
   "metadata": {},
   "outputs": [],
   "source": [
    "data = pd.read_csv(\"default of credit card clients.csv\")"
   ]
  },
  {
   "cell_type": "code",
   "execution_count": 4,
   "metadata": {},
   "outputs": [
    {
     "data": {
      "text/html": [
       "<div>\n",
       "<style scoped>\n",
       "    .dataframe tbody tr th:only-of-type {\n",
       "        vertical-align: middle;\n",
       "    }\n",
       "\n",
       "    .dataframe tbody tr th {\n",
       "        vertical-align: top;\n",
       "    }\n",
       "\n",
       "    .dataframe thead th {\n",
       "        text-align: right;\n",
       "    }\n",
       "</style>\n",
       "<table border=\"1\" class=\"dataframe\">\n",
       "  <thead>\n",
       "    <tr style=\"text-align: right;\">\n",
       "      <th></th>\n",
       "      <th>ID</th>\n",
       "      <th>LIMIT_BAL</th>\n",
       "      <th>SEX</th>\n",
       "      <th>EDUCATION</th>\n",
       "      <th>MARRIAGE</th>\n",
       "      <th>AGE</th>\n",
       "      <th>PAY_0</th>\n",
       "      <th>PAY_2</th>\n",
       "      <th>PAY_3</th>\n",
       "      <th>PAY_4</th>\n",
       "      <th>...</th>\n",
       "      <th>BILL_AMT4</th>\n",
       "      <th>BILL_AMT5</th>\n",
       "      <th>BILL_AMT6</th>\n",
       "      <th>PAY_AMT1</th>\n",
       "      <th>PAY_AMT2</th>\n",
       "      <th>PAY_AMT3</th>\n",
       "      <th>PAY_AMT4</th>\n",
       "      <th>PAY_AMT5</th>\n",
       "      <th>PAY_AMT6</th>\n",
       "      <th>default_payment_next_month</th>\n",
       "    </tr>\n",
       "  </thead>\n",
       "  <tbody>\n",
       "    <tr>\n",
       "      <td>0</td>\n",
       "      <td>530</td>\n",
       "      <td>20000</td>\n",
       "      <td>2</td>\n",
       "      <td>2</td>\n",
       "      <td>2</td>\n",
       "      <td>21</td>\n",
       "      <td>-1</td>\n",
       "      <td>-1</td>\n",
       "      <td>2</td>\n",
       "      <td>2</td>\n",
       "      <td>...</td>\n",
       "      <td>362</td>\n",
       "      <td>5308</td>\n",
       "      <td>0</td>\n",
       "      <td>14410</td>\n",
       "      <td>0</td>\n",
       "      <td>28</td>\n",
       "      <td>22073</td>\n",
       "      <td>0</td>\n",
       "      <td>0</td>\n",
       "      <td>0</td>\n",
       "    </tr>\n",
       "    <tr>\n",
       "      <td>1</td>\n",
       "      <td>1225</td>\n",
       "      <td>20000</td>\n",
       "      <td>1</td>\n",
       "      <td>2</td>\n",
       "      <td>2</td>\n",
       "      <td>21</td>\n",
       "      <td>0</td>\n",
       "      <td>0</td>\n",
       "      <td>-1</td>\n",
       "      <td>0</td>\n",
       "      <td>...</td>\n",
       "      <td>1300</td>\n",
       "      <td>0</td>\n",
       "      <td>0</td>\n",
       "      <td>1240</td>\n",
       "      <td>2333</td>\n",
       "      <td>0</td>\n",
       "      <td>0</td>\n",
       "      <td>0</td>\n",
       "      <td>0</td>\n",
       "      <td>0</td>\n",
       "    </tr>\n",
       "    <tr>\n",
       "      <td>2</td>\n",
       "      <td>1472</td>\n",
       "      <td>20000</td>\n",
       "      <td>1</td>\n",
       "      <td>2</td>\n",
       "      <td>2</td>\n",
       "      <td>21</td>\n",
       "      <td>0</td>\n",
       "      <td>0</td>\n",
       "      <td>2</td>\n",
       "      <td>0</td>\n",
       "      <td>...</td>\n",
       "      <td>20000</td>\n",
       "      <td>0</td>\n",
       "      <td>0</td>\n",
       "      <td>5000</td>\n",
       "      <td>0</td>\n",
       "      <td>0</td>\n",
       "      <td>0</td>\n",
       "      <td>0</td>\n",
       "      <td>0</td>\n",
       "      <td>1</td>\n",
       "    </tr>\n",
       "    <tr>\n",
       "      <td>3</td>\n",
       "      <td>2207</td>\n",
       "      <td>20000</td>\n",
       "      <td>2</td>\n",
       "      <td>1</td>\n",
       "      <td>2</td>\n",
       "      <td>21</td>\n",
       "      <td>0</td>\n",
       "      <td>0</td>\n",
       "      <td>0</td>\n",
       "      <td>0</td>\n",
       "      <td>...</td>\n",
       "      <td>9429</td>\n",
       "      <td>1393</td>\n",
       "      <td>2055</td>\n",
       "      <td>1400</td>\n",
       "      <td>3500</td>\n",
       "      <td>1567</td>\n",
       "      <td>162</td>\n",
       "      <td>2055</td>\n",
       "      <td>0</td>\n",
       "      <td>0</td>\n",
       "    </tr>\n",
       "    <tr>\n",
       "      <td>4</td>\n",
       "      <td>2213</td>\n",
       "      <td>10000</td>\n",
       "      <td>1</td>\n",
       "      <td>2</td>\n",
       "      <td>2</td>\n",
       "      <td>21</td>\n",
       "      <td>0</td>\n",
       "      <td>0</td>\n",
       "      <td>0</td>\n",
       "      <td>0</td>\n",
       "      <td>...</td>\n",
       "      <td>8880</td>\n",
       "      <td>9580</td>\n",
       "      <td>9000</td>\n",
       "      <td>1217</td>\n",
       "      <td>1000</td>\n",
       "      <td>200</td>\n",
       "      <td>700</td>\n",
       "      <td>200</td>\n",
       "      <td>0</td>\n",
       "      <td>0</td>\n",
       "    </tr>\n",
       "  </tbody>\n",
       "</table>\n",
       "<p>5 rows × 25 columns</p>\n",
       "</div>"
      ],
      "text/plain": [
       "     ID  LIMIT_BAL  SEX  EDUCATION  MARRIAGE  AGE  PAY_0  PAY_2  PAY_3  PAY_4  \\\n",
       "0   530      20000    2          2         2   21     -1     -1      2      2   \n",
       "1  1225      20000    1          2         2   21      0      0     -1      0   \n",
       "2  1472      20000    1          2         2   21      0      0      2      0   \n",
       "3  2207      20000    2          1         2   21      0      0      0      0   \n",
       "4  2213      10000    1          2         2   21      0      0      0      0   \n",
       "\n",
       "   ...  BILL_AMT4  BILL_AMT5  BILL_AMT6  PAY_AMT1  PAY_AMT2  PAY_AMT3  \\\n",
       "0  ...        362       5308          0     14410         0        28   \n",
       "1  ...       1300          0          0      1240      2333         0   \n",
       "2  ...      20000          0          0      5000         0         0   \n",
       "3  ...       9429       1393       2055      1400      3500      1567   \n",
       "4  ...       8880       9580       9000      1217      1000       200   \n",
       "\n",
       "   PAY_AMT4  PAY_AMT5  PAY_AMT6  default_payment_next_month  \n",
       "0     22073         0         0                           0  \n",
       "1         0         0         0                           0  \n",
       "2         0         0         0                           1  \n",
       "3       162      2055         0                           0  \n",
       "4       700       200         0                           0  \n",
       "\n",
       "[5 rows x 25 columns]"
      ]
     },
     "execution_count": 4,
     "metadata": {},
     "output_type": "execute_result"
    }
   ],
   "source": [
    "data.head()"
   ]
  },
  {
   "cell_type": "code",
   "execution_count": 5,
   "metadata": {
    "scrolled": true
   },
   "outputs": [
    {
     "data": {
      "text/plain": [
       "0    0\n",
       "1    0\n",
       "2    1\n",
       "3    0\n",
       "4    0\n",
       "Name: default_payment_next_month, dtype: int64"
      ]
     },
     "execution_count": 5,
     "metadata": {},
     "output_type": "execute_result"
    }
   ],
   "source": [
    "results = data.default_payment_next_month\n",
    "results.head()"
   ]
  },
  {
   "cell_type": "code",
   "execution_count": 6,
   "metadata": {},
   "outputs": [
    {
     "data": {
      "text/html": [
       "<div>\n",
       "<style scoped>\n",
       "    .dataframe tbody tr th:only-of-type {\n",
       "        vertical-align: middle;\n",
       "    }\n",
       "\n",
       "    .dataframe tbody tr th {\n",
       "        vertical-align: top;\n",
       "    }\n",
       "\n",
       "    .dataframe thead th {\n",
       "        text-align: right;\n",
       "    }\n",
       "</style>\n",
       "<table border=\"1\" class=\"dataframe\">\n",
       "  <thead>\n",
       "    <tr style=\"text-align: right;\">\n",
       "      <th></th>\n",
       "      <th>ID</th>\n",
       "      <th>LIMIT_BAL</th>\n",
       "      <th>SEX</th>\n",
       "      <th>EDUCATION</th>\n",
       "      <th>MARRIAGE</th>\n",
       "      <th>AGE</th>\n",
       "      <th>PAY_0</th>\n",
       "      <th>PAY_2</th>\n",
       "      <th>PAY_3</th>\n",
       "      <th>PAY_4</th>\n",
       "      <th>...</th>\n",
       "      <th>BILL_AMT3</th>\n",
       "      <th>BILL_AMT4</th>\n",
       "      <th>BILL_AMT5</th>\n",
       "      <th>BILL_AMT6</th>\n",
       "      <th>PAY_AMT1</th>\n",
       "      <th>PAY_AMT2</th>\n",
       "      <th>PAY_AMT3</th>\n",
       "      <th>PAY_AMT4</th>\n",
       "      <th>PAY_AMT5</th>\n",
       "      <th>PAY_AMT6</th>\n",
       "    </tr>\n",
       "  </thead>\n",
       "  <tbody>\n",
       "    <tr>\n",
       "      <td>0</td>\n",
       "      <td>530</td>\n",
       "      <td>20000</td>\n",
       "      <td>2</td>\n",
       "      <td>2</td>\n",
       "      <td>2</td>\n",
       "      <td>21</td>\n",
       "      <td>-1</td>\n",
       "      <td>-1</td>\n",
       "      <td>2</td>\n",
       "      <td>2</td>\n",
       "      <td>...</td>\n",
       "      <td>13771</td>\n",
       "      <td>362</td>\n",
       "      <td>5308</td>\n",
       "      <td>0</td>\n",
       "      <td>14410</td>\n",
       "      <td>0</td>\n",
       "      <td>28</td>\n",
       "      <td>22073</td>\n",
       "      <td>0</td>\n",
       "      <td>0</td>\n",
       "    </tr>\n",
       "    <tr>\n",
       "      <td>1</td>\n",
       "      <td>1225</td>\n",
       "      <td>20000</td>\n",
       "      <td>1</td>\n",
       "      <td>2</td>\n",
       "      <td>2</td>\n",
       "      <td>21</td>\n",
       "      <td>0</td>\n",
       "      <td>0</td>\n",
       "      <td>-1</td>\n",
       "      <td>0</td>\n",
       "      <td>...</td>\n",
       "      <td>2333</td>\n",
       "      <td>1300</td>\n",
       "      <td>0</td>\n",
       "      <td>0</td>\n",
       "      <td>1240</td>\n",
       "      <td>2333</td>\n",
       "      <td>0</td>\n",
       "      <td>0</td>\n",
       "      <td>0</td>\n",
       "      <td>0</td>\n",
       "    </tr>\n",
       "    <tr>\n",
       "      <td>2</td>\n",
       "      <td>1472</td>\n",
       "      <td>20000</td>\n",
       "      <td>1</td>\n",
       "      <td>2</td>\n",
       "      <td>2</td>\n",
       "      <td>21</td>\n",
       "      <td>0</td>\n",
       "      <td>0</td>\n",
       "      <td>2</td>\n",
       "      <td>0</td>\n",
       "      <td>...</td>\n",
       "      <td>20200</td>\n",
       "      <td>20000</td>\n",
       "      <td>0</td>\n",
       "      <td>0</td>\n",
       "      <td>5000</td>\n",
       "      <td>0</td>\n",
       "      <td>0</td>\n",
       "      <td>0</td>\n",
       "      <td>0</td>\n",
       "      <td>0</td>\n",
       "    </tr>\n",
       "    <tr>\n",
       "      <td>3</td>\n",
       "      <td>2207</td>\n",
       "      <td>20000</td>\n",
       "      <td>2</td>\n",
       "      <td>1</td>\n",
       "      <td>2</td>\n",
       "      <td>21</td>\n",
       "      <td>0</td>\n",
       "      <td>0</td>\n",
       "      <td>0</td>\n",
       "      <td>0</td>\n",
       "      <td>...</td>\n",
       "      <td>13937</td>\n",
       "      <td>9429</td>\n",
       "      <td>1393</td>\n",
       "      <td>2055</td>\n",
       "      <td>1400</td>\n",
       "      <td>3500</td>\n",
       "      <td>1567</td>\n",
       "      <td>162</td>\n",
       "      <td>2055</td>\n",
       "      <td>0</td>\n",
       "    </tr>\n",
       "    <tr>\n",
       "      <td>4</td>\n",
       "      <td>2213</td>\n",
       "      <td>10000</td>\n",
       "      <td>1</td>\n",
       "      <td>2</td>\n",
       "      <td>2</td>\n",
       "      <td>21</td>\n",
       "      <td>0</td>\n",
       "      <td>0</td>\n",
       "      <td>0</td>\n",
       "      <td>0</td>\n",
       "      <td>...</td>\n",
       "      <td>9070</td>\n",
       "      <td>8880</td>\n",
       "      <td>9580</td>\n",
       "      <td>9000</td>\n",
       "      <td>1217</td>\n",
       "      <td>1000</td>\n",
       "      <td>200</td>\n",
       "      <td>700</td>\n",
       "      <td>200</td>\n",
       "      <td>0</td>\n",
       "    </tr>\n",
       "  </tbody>\n",
       "</table>\n",
       "<p>5 rows × 24 columns</p>\n",
       "</div>"
      ],
      "text/plain": [
       "     ID  LIMIT_BAL  SEX  EDUCATION  MARRIAGE  AGE  PAY_0  PAY_2  PAY_3  PAY_4  \\\n",
       "0   530      20000    2          2         2   21     -1     -1      2      2   \n",
       "1  1225      20000    1          2         2   21      0      0     -1      0   \n",
       "2  1472      20000    1          2         2   21      0      0      2      0   \n",
       "3  2207      20000    2          1         2   21      0      0      0      0   \n",
       "4  2213      10000    1          2         2   21      0      0      0      0   \n",
       "\n",
       "   ...  BILL_AMT3  BILL_AMT4  BILL_AMT5  BILL_AMT6  PAY_AMT1  PAY_AMT2  \\\n",
       "0  ...      13771        362       5308          0     14410         0   \n",
       "1  ...       2333       1300          0          0      1240      2333   \n",
       "2  ...      20200      20000          0          0      5000         0   \n",
       "3  ...      13937       9429       1393       2055      1400      3500   \n",
       "4  ...       9070       8880       9580       9000      1217      1000   \n",
       "\n",
       "   PAY_AMT3  PAY_AMT4  PAY_AMT5  PAY_AMT6  \n",
       "0        28     22073         0         0  \n",
       "1         0         0         0         0  \n",
       "2         0         0         0         0  \n",
       "3      1567       162      2055         0  \n",
       "4       200       700       200         0  \n",
       "\n",
       "[5 rows x 24 columns]"
      ]
     },
     "execution_count": 6,
     "metadata": {},
     "output_type": "execute_result"
    }
   ],
   "source": [
    "variables = data.drop('default_payment_next_month', axis = 1)\n",
    "variables.head()"
   ]
  },
  {
   "cell_type": "code",
   "execution_count": 76,
   "metadata": {},
   "outputs": [],
   "source": [
    "X_train, X_test, y_train, y_test = train_test_split(variables, results, random_state = 24)"
   ]
  },
  {
   "cell_type": "code",
   "execution_count": 77,
   "metadata": {},
   "outputs": [
    {
     "data": {
      "text/plain": [
       "DecisionTreeClassifier(class_weight=None, criterion='gini', max_depth=None,\n",
       "                       max_features=None, max_leaf_nodes=None,\n",
       "                       min_impurity_decrease=0.0, min_impurity_split=None,\n",
       "                       min_samples_leaf=1, min_samples_split=2,\n",
       "                       min_weight_fraction_leaf=0.0, presort=False,\n",
       "                       random_state=24, splitter='best')"
      ]
     },
     "execution_count": 77,
     "metadata": {},
     "output_type": "execute_result"
    }
   ],
   "source": [
    "dt = DecisionTreeClassifier(random_state=24)\n",
    "dt.fit(X_train, y_train)"
   ]
  },
  {
   "cell_type": "code",
   "execution_count": 78,
   "metadata": {},
   "outputs": [],
   "source": [
    "def test_accuracy_report(model):\n",
    "    y_pred = model.predict(X_test)\n",
    "    print('Accuracy score: ', accuracy_score(y_test, y_pred))"
   ]
  },
  {
   "cell_type": "code",
   "execution_count": 79,
   "metadata": {},
   "outputs": [
    {
     "name": "stdout",
     "output_type": "stream",
     "text": [
      "Training score:  1.0\n",
      "Test score:  0.7237333333333333\n"
     ]
    }
   ],
   "source": [
    "training_score = dt.score(X_train, y_train)\n",
    "test_score = dt.score(X_test, y_test)\n",
    "\n",
    "print('Training score: ', training_score)\n",
    "print('Test score: ', test_score)"
   ]
  },
  {
   "cell_type": "code",
   "execution_count": 95,
   "metadata": {},
   "outputs": [
    {
     "name": "stdout",
     "output_type": "stream",
     "text": [
      "Accuracy score:  0.8145333333333333\n"
     ]
    }
   ],
   "source": [
    "rf = RandomForestClassifier(criterion='gini',n_estimators = 75, random_state=24)\n",
    "rf.fit(X_train, y_train)\n",
    "test_accuracy_report(rf)"
   ]
  },
  {
   "cell_type": "code",
   "execution_count": 83,
   "metadata": {},
   "outputs": [
    {
     "data": {
      "image/png": "[encoded data removed]",
      "text/plain": [
       "<Figure size 432x288 with 1 Axes>"
      ]
     },
     "metadata": {
      "needs_background": "light"
     },
     "output_type": "display_data"
    }
   ],
   "source": [
    "# Calculate feature importances\n",
    "importances = rf.feature_importances_\n",
    "indices = np.argsort(importances)[::-1]\n",
    "\n",
    "# Rearrange feature names so they match the sorted feature importances\n",
    "names = [variables.columns[i] for i in indices]\n",
    "\n",
    "# Create plot\n",
    "fig = plt.figure()\n",
    "\n",
    "# Create plot title\n",
    "plt.title(\"Feature Importance\")\n",
    "x = 20\n",
    "# Add bars\n",
    "plt.bar(range(x), importances[indices][:x])\n",
    "\n",
    "# Add feature names as x-axis labels\n",
    "plt.xticks(range(x), names[:x], rotation=90)\n",
    "\n",
    "plt.xlabel('Variables')\n",
    "plt.ylabel('Importance')\n",
    "# Show plot\n",
    "plt.show()\n",
    "# fig.savefig('plot.png', bbox_inches = 'tight', transparent = True) # Save file as plot.png"
   ]
  },
  {
   "cell_type": "code",
   "execution_count": 82,
   "metadata": {},
   "outputs": [],
   "source": []
  },
  {
   "cell_type": "code",
   "execution_count": 85,
   "metadata": {},
   "outputs": [
    {
     "ename": "NameError",
     "evalue": "name 'GridSearchCV' is not defined",
     "output_type": "error",
     "traceback": [
      "\u001b[1;31m---------------------------------------------------------------------------\u001b[0m",
      "\u001b[1;31mNameError\u001b[0m                                 Traceback (most recent call last)",
      "\u001b[1;32m<ipython-input-85-b4a33bf27f82>\u001b[0m in \u001b[0;36m<module>\u001b[1;34m\u001b[0m\n\u001b[0;32m      4\u001b[0m \u001b[1;31m# Random search of parameters, using 3 fold cross validation,\u001b[0m\u001b[1;33m\u001b[0m\u001b[1;33m\u001b[0m\u001b[1;33m\u001b[0m\u001b[0m\n\u001b[0;32m      5\u001b[0m \u001b[1;31m# search across 100 different combinations, and use all available cores\u001b[0m\u001b[1;33m\u001b[0m\u001b[1;33m\u001b[0m\u001b[1;33m\u001b[0m\u001b[0m\n\u001b[1;32m----> 6\u001b[1;33m \u001b[0mrf_random\u001b[0m \u001b[1;33m=\u001b[0m \u001b[0mGridSearchCV\u001b[0m\u001b[1;33m(\u001b[0m\u001b[0mestimator\u001b[0m \u001b[1;33m=\u001b[0m \u001b[0mrf\u001b[0m\u001b[1;33m,\u001b[0m \u001b[0mparam_distributions\u001b[0m \u001b[1;33m=\u001b[0m \u001b[0mrandom_grid\u001b[0m\u001b[1;33m,\u001b[0m \u001b[0mn_iter\u001b[0m \u001b[1;33m=\u001b[0m \u001b[1;36m100\u001b[0m\u001b[1;33m,\u001b[0m \u001b[0mcv\u001b[0m \u001b[1;33m=\u001b[0m \u001b[1;36m3\u001b[0m\u001b[1;33m,\u001b[0m \u001b[0mverbose\u001b[0m\u001b[1;33m=\u001b[0m\u001b[1;36m2\u001b[0m\u001b[1;33m,\u001b[0m \u001b[0mrandom_state\u001b[0m\u001b[1;33m=\u001b[0m\u001b[1;36m42\u001b[0m\u001b[1;33m,\u001b[0m \u001b[0mn_jobs\u001b[0m \u001b[1;33m=\u001b[0m \u001b[1;33m-\u001b[0m\u001b[1;36m1\u001b[0m\u001b[1;33m)\u001b[0m\u001b[1;33m\u001b[0m\u001b[1;33m\u001b[0m\u001b[0m\n\u001b[0m\u001b[0;32m      7\u001b[0m \u001b[1;31m# Fit the random search model\u001b[0m\u001b[1;33m\u001b[0m\u001b[1;33m\u001b[0m\u001b[1;33m\u001b[0m\u001b[0m\n\u001b[0;32m      8\u001b[0m \u001b[0mrf_random\u001b[0m\u001b[1;33m.\u001b[0m\u001b[0mfit\u001b[0m\u001b[1;33m(\u001b[0m\u001b[0mtrain_features\u001b[0m\u001b[1;33m,\u001b[0m \u001b[0mtrain_labels\u001b[0m\u001b[1;33m)\u001b[0m\u001b[1;33m\u001b[0m\u001b[1;33m\u001b[0m\u001b[0m\n",
      "\u001b[1;31mNameError\u001b[0m: name 'GridSearchCV' is not defined"
     ]
    }
   ],
   "source": [
    "# Rohit Code\n",
    "text_clf = Pipeline([\n",
    "    ('vect', TfidfVectorizer(ngram_range = (1, 2))),\n",
    "    ('clf', RandomForestClassifier(random_state=42, n_estimators=30, max_depth=40, min_samples_split=2, min_samples_leaf=2)),\n",
    "])\n",
    "\n",
    "text_clf.fit(X_train, y_train)\n",
    "\n",
    "predicted = text_clf.predict(X_test)\n",
    "print(\"Model accuracy is\",accuracy_score(y_test, predicted))\n",
    "\n",
    "x_increments = (1, 2, 3, 4, 5, 6, 7, 8, 9, 10, 11, 12, 13, 14, 15, 16, 17, 18, 19, 20)\n",
    "\n",
    "train_scores, valid_scores = validation_curve(RandomForestClassifier(random_state=42, n_estimators=30, max_depth=40, min_samples_split=2), X_train_tfidf, y_train, \"min_samples_leaf\", x_increments , cv=5)\n",
    "\n",
    "for x,i in enumerate(train_scores):\n",
    "    train_scores[x] = np.mean(i)\n",
    "\n",
    "for x,i in enumerate(valid_scores):\n",
    "    valid_scores[x] = np.mean(i)\n",
    "\n",
    "print(train_scores)\n",
    "print(valid_scores)\n",
    "plt.plot(x_increments, train_scores, label='train')\n",
    "\n",
    "plt.plot(x_increments, valid_scores, label='valid')\n",
    "plt.legend()\n",
    "plt.savefig('ValidCurve.png')\n",
    "\n",
    "parameters = {\n",
    "    'vectngram_range': [(1, 1), (1, 2), (1, 3)],\n",
    "    'clfn_estimators': (650, 700, 750, 800, 850, 900),\n",
    "    'clfmax_depth': (15, 20, 25),\n",
    "    'clfmin_samples_split': (5, 10, 15, 20),\n",
    "    'clf__min_samples_leaf': (2, 3),\n",
    "}\n",
    "\n",
    "\"\"\" gs_clf = GridSearchCV(text_clf, parameters, cv=5, n_jobs=-1, verbose=1)\n",
    "gs_clf = gs_clf.fit(X_train, y_train)\n",
    "print(gs_clf.bestscore)\n",
    "for param_name in sorted(parameters.keys()):\n",
    "    print(\"%s: %r\" % (param_name, gs_clf.bestparams[param_name])) \"\"\""
   ]
  },
  {
   "cell_type": "code",
   "execution_count": 98,
   "metadata": {},
   "outputs": [],
   "source": [
    "parameters = {\n",
    "    'n_estimators': (60, 90, 120),\n",
    "    'max_depth': (15, 20, 25),\n",
    "    'min_samples_split': (5, 10, 15, 20),\n",
    "    'min_samples_leaf': (2, 3),\n",
    "}"
   ]
  },
  {
   "cell_type": "code",
   "execution_count": 102,
   "metadata": {},
   "outputs": [
    {
     "name": "stdout",
     "output_type": "stream",
     "text": [
      "Fitting 5 folds for each of 72 candidates, totalling 360 fits\n"
     ]
    },
    {
     "name": "stderr",
     "output_type": "stream",
     "text": [
      "[Parallel(n_jobs=-1)]: Using backend LokyBackend with 12 concurrent workers.\n",
      "[Parallel(n_jobs=-1)]: Done  26 tasks      | elapsed:   13.7s\n",
      "[Parallel(n_jobs=-1)]: Done 176 tasks      | elapsed:  1.4min\n",
      "[Parallel(n_jobs=-1)]: Done 360 out of 360 | elapsed:  3.0min finished\n"
     ]
    }
   ],
   "source": [
    "gs_clf = GridSearchCV(rf, parameters, cv=5, n_jobs=-1, verbose=1)\n",
    "gs_clf = gs_clf.fit(X_train, y_train)"
   ]
  },
  {
   "cell_type": "code",
   "execution_count": 104,
   "metadata": {},
   "outputs": [
    {
     "name": "stdout",
     "output_type": "stream",
     "text": [
      "max_depth: 15\n",
      "min_samples_leaf: 3\n",
      "min_samples_split: 20\n",
      "n_estimators: 60\n",
      "0.8196888888888889\n"
     ]
    }
   ],
   "source": [
    "for param_name in sorted(parameters.keys()):\n",
    "    print(\"%s: %r\" % (param_name, gs_clf.best_params_[param_name]))\n",
    "print(gs_clf.best_score_)"
   ]
  },
  {
   "cell_type": "code",
   "execution_count": null,
   "metadata": {},
   "outputs": [],
   "source": []
  },
  {
   "cell_type": "code",
   "execution_count": 7,
   "metadata": {},
   "outputs": [
    {
     "name": "stdout",
     "output_type": "stream",
     "text": [
      "0        21\n",
      "1        21\n",
      "2        21\n",
      "3        21\n",
      "4        21\n",
      "         ..\n",
      "29995    74\n",
      "29996    75\n",
      "29997    75\n",
      "29998    75\n",
      "29999    79\n",
      "Name: AGE, Length: 30000, dtype: int64\n",
      "0        0\n",
      "1        0\n",
      "2        1\n",
      "3        0\n",
      "4        0\n",
      "        ..\n",
      "29995    0\n",
      "29996    0\n",
      "29997    1\n",
      "29998    0\n",
      "29999    0\n",
      "Name: default_payment_next_month, Length: 30000, dtype: int64\n"
     ]
    }
   ],
   "source": [
    "ages = data.AGE\n",
    "print(ages)\n",
    "dfl = data.default_payment_next_month\n",
    "print(dfl)"
   ]
  },
  {
   "cell_type": "code",
   "execution_count": 8,
   "metadata": {},
   "outputs": [
    {
     "name": "stdout",
     "output_type": "stream",
     "text": [
      "9618\n",
      "11238\n",
      "6464\n",
      "2341\n",
      "314\n",
      "25\n"
     ]
    }
   ],
   "source": [
    "# Initializing range x-values\n",
    "twentiesX = []\n",
    "thirtiesX = []\n",
    "fortiesX = []\n",
    "fiftiesX = []\n",
    "sixtiesX = []\n",
    "seventiesX = []\n",
    "# Initializing range y-values\n",
    "twentiesY = []\n",
    "thirtiesY = []\n",
    "fortiesY = []\n",
    "fiftiesY = []\n",
    "sixtiesY = []\n",
    "seventiesY = []\n",
    "# Setting default counter\n",
    "count20 = 0\n",
    "count30 = 0\n",
    "count40 = 0\n",
    "count50 = 0\n",
    "count60 = 0\n",
    "count70 = 0\n",
    "# More epic initialization\n",
    "countD20 = 0\n",
    "countD30 = 0\n",
    "countD40 = 0\n",
    "countD50 = 0\n",
    "countD60 = 0\n",
    "countD70 = 0\n",
    "\n",
    "# Default? Y/N\n",
    "\n",
    "for index in range(30000):\n",
    "    if ages[index] < 30:\n",
    "#        print('20 to 29:', ages[index])\n",
    "        twentiesX = np.append(twentiesX, ages[index])\n",
    "        count20 = count20 + 1\n",
    "        if dfl[index] == 1:\n",
    "            countD20 = countD20 + 1\n",
    "        \n",
    "    elif ages[index] < 40:\n",
    "#        print('30 to 39:', ages[index])\n",
    "        thirtiesX = np.append(thirtiesX, ages[index])\n",
    "#        thirtiesY = np.append(thirtiesY, dfl[index])\n",
    "        count30 = count30 + 1\n",
    "        if dfl[index] == 1:\n",
    "            countD30 = countD30 + 1\n",
    "        \n",
    "    elif ages[index] < 50:\n",
    "#        print('40 to 49:', ages[index])\n",
    "        fortiesX = np.append(fortiesX, ages[index])\n",
    "#        fortiesY = np.append(fortiesY, dfl[index])\n",
    "        count40 = count40 + 1\n",
    "        if dfl[index] == 1:\n",
    "            countD40 = countD40 + 1\n",
    "        \n",
    "    elif ages[index] < 60:\n",
    "#        print('50 to 59:', ages[index])\n",
    "        fiftiesX = np.append(fiftiesX, ages[index])\n",
    "#        fiftiesY = np.append(fiftiesY, dfl[index])\n",
    "        count50 = count50 + 1\n",
    "        if dfl[index] == 1:\n",
    "            countD50 = countD50 + 1\n",
    "        \n",
    "    elif ages[index] < 70:\n",
    "#        print('60 to 69:', ages[index])\n",
    "        sixtiesX = np.append(sixtiesX, ages[index])\n",
    "#        sixtiesY = np.append(sixtiesY, dfl[index])\n",
    "        count60 = count60 + 1\n",
    "        if dfl[index] == 1:\n",
    "            countD60 = countD60 + 1\n",
    "        \n",
    "    else: \n",
    "#        print('70 to 79:', ages[index])\n",
    "        seventiesX = np.append(seventiesX, ages[index])\n",
    "#        seventiesY = np.append(seventiesY, dfl[index])\n",
    "        count70 = count70 + 1\n",
    "        if dfl[index] == 1:\n",
    "            countD70 = countD70 + 1\n",
    "    \n",
    "print(count20)\n",
    "print(count30)\n",
    "print(count40)\n",
    "print(count50)\n",
    "print(count60)\n",
    "print(count70)\n"
   ]
  },
  {
   "cell_type": "code",
   "execution_count": 9,
   "metadata": {},
   "outputs": [
    {
     "data": {
      "text/plain": [
       "([array([ 0.,  0.,  0.,  0.,  0.,  0.,  0.,  0., 13., 12.]),\n",
       "  array([1., 0., 0., 0., 0., 0., 0., 0., 0., 0.])],\n",
       " array([ 0.38910506,  8.25019455, 16.11128405, 23.97237354, 31.83346304,\n",
       "        39.69455253, 47.55564202, 55.41673152, 63.27782101, 71.13891051,\n",
       "        79.        ]),\n",
       " <a list of 2 Lists of Patches objects>)"
      ]
     },
     "execution_count": 9,
     "metadata": {},
     "output_type": "execute_result"
    },
    {
     "data": {
      "image/png": "[encoded data removed]",
      "text/plain": [
       "<Figure size 432x288 with 1 Axes>"
      ]
     },
     "metadata": {
      "needs_background": "light"
     },
     "output_type": "display_data"
    }
   ],
   "source": [
    "twentiesX1 = 0\n",
    "thirtiesX1 = 0\n",
    "fortiesX1 = 0\n",
    "fiftiesX1 = 0 \n",
    "sixtiesX1 = 0\n",
    "seventiesX1 = 0\n",
    "\n",
    "for index in range(len(twentiesX)):\n",
    "    twentiesX1 = twentiesX1 + twentiesX[index]\n",
    "avg20 = (countD20 / twentiesX1) * 100\n",
    "\n",
    "for index in range(len(thirtiesX)):\n",
    "    thirtiesX1 = thirtiesX1 + thirtiesX[index]\n",
    "avg30 = (countD30 / thirtiesX1) * 100\n",
    "\n",
    "for index in range(len(fortiesX)):\n",
    "    fortiesX1 = fortiesX1 + fortiesX[index]\n",
    "avg40 = (countD40 / fortiesX1) * 100\n",
    "\n",
    "for index in range(len(fiftiesX)):\n",
    "    fiftiesX1 = fiftiesX1 + fiftiesX[index]\n",
    "avg50 = (countD50 / fiftiesX1) * 100\n",
    "\n",
    "for index in range(len(sixtiesX)):\n",
    "    sixtiesX1 = sixtiesX1 + sixtiesX[index]\n",
    "avg60 = (countD60 / sixtiesX1) * 100\n",
    "\n",
    "for index in range(len(seventiesX)):\n",
    "    seventiesX1 = seventiesX1 + seventiesX[index]\n",
    "avg70 = (countD70 / seventiesX1) * 100\n",
    "\n",
    "plt.hist([twentiesX, avg20])\n",
    "plt.hist([thirtiesX, avg30])\n",
    "plt.hist([fortiesX, avg40])\n",
    "plt.hist([fiftiesX, avg50])\n",
    "plt.hist([sixtiesX, avg60])\n",
    "plt.hist([seventiesX, avg70])"
   ]
  },
  {
   "cell_type": "code",
   "execution_count": null,
   "metadata": {},
   "outputs": [],
   "source": []
  },
  {
   "cell_type": "code",
   "execution_count": null,
   "metadata": {},
   "outputs": [],
   "source": []
  }
 ],
 "metadata": {
  "kernelspec": {
   "display_name": "Python 3",
   "language": "python",
   "name": "python3"
  },
  "language_info": {
   "codemirror_mode": {
    "name": "ipython",
    "version": 3
   },
   "file_extension": ".py",
   "mimetype": "text/x-python",
   "name": "python",
   "nbconvert_exporter": "python",
   "pygments_lexer": "ipython3",
   "version": "3.7.4"
  }
 },
 "nbformat": 4,
 "nbformat_minor": 2
}
